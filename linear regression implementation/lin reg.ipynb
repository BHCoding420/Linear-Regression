{
 "cells": [
  {
   "cell_type": "markdown",
   "metadata": {},
   "source": [
    "   \n",
    "<h1>The images are from Edureka youtube video explaining linear regression,click the link below to go to video:</h1> \n",
    "<a href=\"https://youtu.be/dQw4w9WgXcQ\">click here</a> \n",
    "<br>\n",
    "<a href=\"https://www.youtube.com/watch?v=E5RjzSK0fvY&t=1298s\">or here</a>\n",
    "<a>\n",
    "    <img src=\"linear regression/1.jpg\" > \n",
    "</a>\n",
    "\n",
    "<img src=\"linear regression/2.jpg\" > \n",
    "<img src=\"linear regression/3.jpg\" > \n",
    "<img src=\"linear regression/4.jpg\" >  \n",
    "<img src=\"linear regression/6.jpg\" >  \n",
    "<img src=\"linear regression/7.jpg\" > \n",
    "<img src=\"linear regression/8.jpg\" >  \n",
    "<img src=\"linear regression/9.jpg\" > \n",
    "<img src=\"linear regression/10.jpg\" > \n",
    "<img src=\"linear regression/11.jpg\" > \n",
    "<img src=\"linear regression/12.jpg\" >  \n",
    "<img src=\"linear regression/13.jpg\" >  \n",
    "<img src=\"linear regression/14.gif\" >  \n",
    "<img src=\"linear regression/15.jpg\" > \n",
    "<img src=\"linear regression/16.jpg\" > "
   ]
  },
  {
   "cell_type": "markdown",
   "metadata": {},
   "source": [
    "<h3>Importing libraries and reading excel file(csv) </h3>"
   ]
  },
  {
   "cell_type": "code",
   "execution_count": 4,
   "metadata": {},
   "outputs": [
    {
     "name": "stdout",
     "output_type": "stream",
     "text": [
      "(6, 4)\n"
     ]
    },
    {
     "data": {
      "text/html": [
       "<div>\n",
       "<style scoped>\n",
       "    .dataframe tbody tr th:only-of-type {\n",
       "        vertical-align: middle;\n",
       "    }\n",
       "\n",
       "    .dataframe tbody tr th {\n",
       "        vertical-align: top;\n",
       "    }\n",
       "\n",
       "    .dataframe thead th {\n",
       "        text-align: right;\n",
       "    }\n",
       "</style>\n",
       "<table border=\"1\" class=\"dataframe\">\n",
       "  <thead>\n",
       "    <tr style=\"text-align: right;\">\n",
       "      <th></th>\n",
       "      <th>area</th>\n",
       "      <th>bedrooms</th>\n",
       "      <th>age</th>\n",
       "      <th>price</th>\n",
       "    </tr>\n",
       "  </thead>\n",
       "  <tbody>\n",
       "    <tr>\n",
       "      <th>0</th>\n",
       "      <td>2600</td>\n",
       "      <td>3.0</td>\n",
       "      <td>20</td>\n",
       "      <td>550000</td>\n",
       "    </tr>\n",
       "    <tr>\n",
       "      <th>1</th>\n",
       "      <td>3000</td>\n",
       "      <td>4.0</td>\n",
       "      <td>15</td>\n",
       "      <td>565000</td>\n",
       "    </tr>\n",
       "    <tr>\n",
       "      <th>2</th>\n",
       "      <td>3200</td>\n",
       "      <td>NaN</td>\n",
       "      <td>18</td>\n",
       "      <td>610000</td>\n",
       "    </tr>\n",
       "    <tr>\n",
       "      <th>3</th>\n",
       "      <td>3600</td>\n",
       "      <td>3.0</td>\n",
       "      <td>30</td>\n",
       "      <td>595000</td>\n",
       "    </tr>\n",
       "    <tr>\n",
       "      <th>4</th>\n",
       "      <td>4000</td>\n",
       "      <td>5.0</td>\n",
       "      <td>8</td>\n",
       "      <td>760000</td>\n",
       "    </tr>\n",
       "    <tr>\n",
       "      <th>5</th>\n",
       "      <td>4100</td>\n",
       "      <td>6.0</td>\n",
       "      <td>8</td>\n",
       "      <td>810000</td>\n",
       "    </tr>\n",
       "  </tbody>\n",
       "</table>\n",
       "</div>"
      ],
      "text/plain": [
       "   area  bedrooms  age   price\n",
       "0  2600       3.0   20  550000\n",
       "1  3000       4.0   15  565000\n",
       "2  3200       NaN   18  610000\n",
       "3  3600       3.0   30  595000\n",
       "4  4000       5.0    8  760000\n",
       "5  4100       6.0    8  810000"
      ]
     },
     "execution_count": 4,
     "metadata": {},
     "output_type": "execute_result"
    }
   ],
   "source": [
    "%matplotlib inline \n",
    "import numpy as np \n",
    "import pandas as pd \n",
    "import matplotlib.pyplot as plt \n",
    "#plt.rcparams['figure.figsize'] = (20.0,10.0)  \n",
    "\n",
    "data = pd.read_csv('../excel/homepricesmult.csv') \n",
    "print(data.shape) \n",
    "data\n",
    "\n",
    "\n"
   ]
  },
  {
   "cell_type": "code",
   "execution_count": 5,
   "metadata": {},
   "outputs": [
    {
     "data": {
      "text/html": [
       "<div>\n",
       "<style scoped>\n",
       "    .dataframe tbody tr th:only-of-type {\n",
       "        vertical-align: middle;\n",
       "    }\n",
       "\n",
       "    .dataframe tbody tr th {\n",
       "        vertical-align: top;\n",
       "    }\n",
       "\n",
       "    .dataframe thead th {\n",
       "        text-align: right;\n",
       "    }\n",
       "</style>\n",
       "<table border=\"1\" class=\"dataframe\">\n",
       "  <thead>\n",
       "    <tr style=\"text-align: right;\">\n",
       "      <th></th>\n",
       "      <th>area</th>\n",
       "      <th>bedrooms</th>\n",
       "      <th>age</th>\n",
       "      <th>price</th>\n",
       "    </tr>\n",
       "  </thead>\n",
       "  <tbody>\n",
       "    <tr>\n",
       "      <th>0</th>\n",
       "      <td>2600</td>\n",
       "      <td>3.0</td>\n",
       "      <td>20</td>\n",
       "      <td>550000</td>\n",
       "    </tr>\n",
       "    <tr>\n",
       "      <th>1</th>\n",
       "      <td>3000</td>\n",
       "      <td>4.0</td>\n",
       "      <td>15</td>\n",
       "      <td>565000</td>\n",
       "    </tr>\n",
       "    <tr>\n",
       "      <th>2</th>\n",
       "      <td>3200</td>\n",
       "      <td>4.0</td>\n",
       "      <td>18</td>\n",
       "      <td>610000</td>\n",
       "    </tr>\n",
       "    <tr>\n",
       "      <th>3</th>\n",
       "      <td>3600</td>\n",
       "      <td>3.0</td>\n",
       "      <td>30</td>\n",
       "      <td>595000</td>\n",
       "    </tr>\n",
       "    <tr>\n",
       "      <th>4</th>\n",
       "      <td>4000</td>\n",
       "      <td>5.0</td>\n",
       "      <td>8</td>\n",
       "      <td>760000</td>\n",
       "    </tr>\n",
       "    <tr>\n",
       "      <th>5</th>\n",
       "      <td>4100</td>\n",
       "      <td>6.0</td>\n",
       "      <td>8</td>\n",
       "      <td>810000</td>\n",
       "    </tr>\n",
       "  </tbody>\n",
       "</table>\n",
       "</div>"
      ],
      "text/plain": [
       "   area  bedrooms  age   price\n",
       "0  2600       3.0   20  550000\n",
       "1  3000       4.0   15  565000\n",
       "2  3200       4.0   18  610000\n",
       "3  3600       3.0   30  595000\n",
       "4  4000       5.0    8  760000\n",
       "5  4100       6.0    8  810000"
      ]
     },
     "execution_count": 5,
     "metadata": {},
     "output_type": "execute_result"
    }
   ],
   "source": [
    "med =data.bedrooms.median()\n",
    "data.bedrooms = data.bedrooms.fillna(med)\n",
    "data"
   ]
  },
  {
   "cell_type": "code",
   "execution_count": 7,
   "metadata": {},
   "outputs": [],
   "source": [
    "X = data['area'].values \n",
    "Y = data['price'].values"
   ]
  },
  {
   "cell_type": "markdown",
   "metadata": {},
   "source": [
    "<h1>1) First Method: </h1>\n",
    "<h1>Implementing linear regression manually (no sci-kit learn) </h1>"
   ]
  },
  {
   "cell_type": "code",
   "execution_count": 9,
   "metadata": {},
   "outputs": [
    {
     "name": "stdout",
     "output_type": "stream",
     "text": [
      "167.0 76692.0\n"
     ]
    }
   ],
   "source": [
    "#Calculating the mean of x and y\n",
    "mean_x = np.mean(X) \n",
    "mean_y = np.mean(Y) \n",
    "\n",
    "#Total number of values \n",
    "m = len(X)\n",
    "#using the formula to calculate b1(slope of regression line) and b2(coefficient of regression line)\n",
    "numerator = 0 \n",
    "denomator = 0 \n",
    "for i in range(m): \n",
    "    numerator += (X[i] - mean_x) * (Y[i] - mean_y) \n",
    "    denomator += (X[i] - mean_x) ** 2 \n",
    "b1 = numerator / denomator # slope of regression line\n",
    "b0 = mean_y - (b1 * mean_x) #y-intercept of regression line\n",
    "\n",
    "# print coefficients \n",
    "print(b1.round(),b0.round())"
   ]
  },
  {
   "cell_type": "markdown",
   "metadata": {},
   "source": [
    "<h3>Plotting the regression line for the data</h3>"
   ]
  },
  {
   "cell_type": "code",
   "execution_count": 10,
   "metadata": {},
   "outputs": [
    {
     "name": "stdout",
     "output_type": "stream",
     "text": [
      "[2600.         2651.72413793 2703.44827586 2755.17241379 2806.89655172\n",
      " 2858.62068966 2910.34482759 2962.06896552 3013.79310345 3065.51724138\n",
      " 3117.24137931 3168.96551724 3220.68965517 3272.4137931  3324.13793103\n",
      " 3375.86206897 3427.5862069  3479.31034483 3531.03448276 3582.75862069\n",
      " 3634.48275862 3686.20689655 3737.93103448 3789.65517241 3841.37931034\n",
      " 3893.10344828 3944.82758621 3996.55172414 4048.27586207 4100.        ]\n",
      "The predicted value for area = 3013.793103448276 is y= 580928.7400658398\n"
     ]
    },
    {
     "data": {
      "image/png": "[encoded data removed]",
      "text/plain": [
       "<Figure size 432x288 with 1 Axes>"
      ]
     },
     "metadata": {
      "needs_background": "light"
     },
     "output_type": "display_data"
    }
   ],
   "source": [
    "#plotting values and regression line\n",
    "max_x = np.max(X) \n",
    "min_x = np.min(X)  \n",
    "\n",
    "#Calculating line values x and y \n",
    "x = np.linspace(min_x, max_x, 30) #displaying 30 values between min X and max X\n",
    "print(x)\n",
    "y = b0 + b1 * x \n",
    "#we have area = 3013.79310345 at index 8 of x,let's display the predicted value y(price) for it\n",
    "print(\"The predicted value for area =\",x[8],\"is y=\",y[8])\n",
    "\n",
    "#plotting line \n",
    "plt.plot(x,y,color='#58b970',label='Regression Line') \n",
    "#plotting scatter points \n",
    "plt.scatter(X,Y, c='blue', label='Scatter Plot')\n",
    "\n",
    "plt.xlabel('area')\n",
    "plt.ylabel('price') \n",
    "plt.legend() \n",
    "plt.show()"
   ]
  },
  {
   "cell_type": "markdown",
   "metadata": {},
   "source": [
    "<h3> calculating r2 (the mean square error)</h3>"
   ]
  },
  {
   "cell_type": "code",
   "execution_count": 11,
   "metadata": {},
   "outputs": [
    {
     "name": "stdout",
     "output_type": "stream",
     "text": [
      "0.8126597526459411\n"
     ]
    }
   ],
   "source": [
    "ss_t = 0 \n",
    "ss_r = 0 \n",
    "for i in range(m): \n",
    "    y_pred = b0 + b1 * X[i] \n",
    "    ss_t += (Y[i] - mean_y) ** 2 \n",
    "    ss_r += (Y[i] - y_pred) ** 2 \n",
    "r2 = 1 - (ss_r/ss_t) \n",
    "print(r2)\n"
   ]
  },
  {
   "cell_type": "markdown",
   "metadata": {},
   "source": [
    "<h1>2nd Method: </h1>\n",
    "<h1>Now we implement linear regression automatically using the built-in functions found in sci-kit learn </h1>"
   ]
  },
  {
   "cell_type": "code",
   "execution_count": 12,
   "metadata": {},
   "outputs": [
    {
     "name": "stdout",
     "output_type": "stream",
     "text": [
      "[[2600]\n",
      " [3000]\n",
      " [3200]\n",
      " [3600]\n",
      " [4000]\n",
      " [4100]] <class 'numpy.ndarray'>\n"
     ]
    }
   ],
   "source": [
    "from sklearn.linear_model import LinearRegression \n",
    "from sklearn.metrics import mean_squared_error \n",
    "\n",
    "# cannot use rank 1 matrix in scikit learn \n",
    "X = X.reshape((m,1)) \n",
    "print(X,type(X))"
   ]
  },
  {
   "cell_type": "code",
   "execution_count": 13,
   "metadata": {},
   "outputs": [
    {
     "name": "stdout",
     "output_type": "stream",
     "text": [
      "The predictions are:\n",
      "[511697.20347155 578621.02217936 612082.93153327 679006.75024108\n",
      " 745930.56894889 762661.52362584]\n",
      "The mean square error is:\n",
      "0.8126597526459413\n"
     ]
    }
   ],
   "source": [
    "#creating model \n",
    "reg = LinearRegression()\n",
    "#Fitting training data \n",
    "reg = reg.fit(X,Y) \n",
    "# Y Prediction \n",
    "Y_pred = reg.predict(X)  \n",
    "print(\"The predictions are:\")\n",
    "print(Y_pred)\n",
    "#Calculating R2 score \n",
    "r2_score = reg.score(X,Y) \n",
    "print(\"The mean square error is:\")\n",
    "print(r2_score)\n"
   ]
  },
  {
   "cell_type": "code",
   "execution_count": null,
   "metadata": {},
   "outputs": [],
   "source": []
  },
  {
   "cell_type": "code",
   "execution_count": null,
   "metadata": {},
   "outputs": [],
   "source": []
  }
 ],
 "metadata": {
  "kernelspec": {
   "display_name": "Python 3",
   "language": "python",
   "name": "python3"
  },
  "language_info": {
   "codemirror_mode": {
    "name": "ipython",
    "version": 3
   },
   "file_extension": ".py",
   "mimetype": "text/x-python",
   "name": "python",
   "nbconvert_exporter": "python",
   "pygments_lexer": "ipython3",
   "version": "3.8.5"
  }
 },
 "nbformat": 4,
 "nbformat_minor": 4
}
